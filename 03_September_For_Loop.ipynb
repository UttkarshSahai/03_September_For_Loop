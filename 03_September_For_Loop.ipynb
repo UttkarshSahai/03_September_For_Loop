{
 "cells": [
  {
   "cell_type": "markdown",
   "id": "6aba1997",
   "metadata": {},
   "source": [
    "# Basic Level"
   ]
  },
  {
   "cell_type": "raw",
   "id": "a1d9a535",
   "metadata": {},
   "source": [
    "1. Write a Python program to print the numbers from 1 to 10 using a `for` loop."
   ]
  },
  {
   "cell_type": "code",
   "execution_count": 1,
   "id": "489ca8ab",
   "metadata": {},
   "outputs": [
    {
     "name": "stdout",
     "output_type": "stream",
     "text": [
      "0\n",
      "1\n",
      "2\n",
      "3\n",
      "4\n",
      "5\n",
      "6\n",
      "7\n",
      "8\n",
      "9\n",
      "10\n"
     ]
    }
   ],
   "source": [
    "for i in range(11):\n",
    "    print(i)"
   ]
  },
  {
   "cell_type": "raw",
   "id": "72c33064",
   "metadata": {},
   "source": [
    "2. Create a program that calculates the sum of all numbers in a list using a `for` loop."
   ]
  },
  {
   "cell_type": "code",
   "execution_count": 2,
   "id": "2861ae2b",
   "metadata": {},
   "outputs": [
    {
     "name": "stdout",
     "output_type": "stream",
     "text": [
      "55\n"
     ]
    }
   ],
   "source": [
    "l=[1,2,3,4,5,6,7,8,9,10]\n",
    "sum=0\n",
    "for i in l:\n",
    "    sum=sum+i\n",
    "print(sum)"
   ]
  },
  {
   "cell_type": "raw",
   "id": "15b09cb2",
   "metadata": {},
   "source": [
    "3. Write a program to print the characters of a string in reverse order using a `for` loop."
   ]
  },
  {
   "cell_type": "code",
   "execution_count": 3,
   "id": "5bfeb4f3",
   "metadata": {},
   "outputs": [
    {
     "name": "stdout",
     "output_type": "stream",
     "text": [
      "!dlroW olleH\n"
     ]
    }
   ],
   "source": [
    "char=\"Hello World!\"\n",
    "sum=''\n",
    "for i in char:\n",
    "    sum=sum+i\n",
    "print(sum[::-1])"
   ]
  },
  {
   "cell_type": "raw",
   "id": "8cf6776f",
   "metadata": {},
   "source": [
    "4. Develop a program that finds the factorial of a given number using a `for` loop."
   ]
  },
  {
   "cell_type": "code",
   "execution_count": 4,
   "id": "e9efd0da",
   "metadata": {},
   "outputs": [
    {
     "name": "stdout",
     "output_type": "stream",
     "text": [
      "The factorial of 4 is 24.\n"
     ]
    }
   ],
   "source": [
    "n=4\n",
    "factorial=1\n",
    "for i in range(1,n+1):\n",
    "    factorial=factorial*i\n",
    "print(f\"The factorial of {n} is {factorial}.\")    "
   ]
  },
  {
   "cell_type": "raw",
   "id": "e28f9d0e",
   "metadata": {},
   "source": [
    "5. Create a program to print the multiplication table of a given number using a `for` loop."
   ]
  },
  {
   "cell_type": "code",
   "execution_count": 5,
   "id": "aa04746e",
   "metadata": {},
   "outputs": [
    {
     "name": "stdout",
     "output_type": "stream",
     "text": [
      "7 x 1 = 7\n",
      "7 x 2 = 14\n",
      "7 x 3 = 21\n",
      "7 x 4 = 28\n",
      "7 x 5 = 35\n",
      "7 x 6 = 42\n",
      "7 x 7 = 49\n",
      "7 x 8 = 56\n",
      "7 x 9 = 63\n",
      "7 x 10 = 70\n"
     ]
    }
   ],
   "source": [
    "num = 7\n",
    "\n",
    "for i in range(1, 11):\n",
    "    print(f\"{num} x {i} = {num * i}\")"
   ]
  },
  {
   "cell_type": "raw",
   "id": "cc88c06a",
   "metadata": {},
   "source": [
    "6. Write a program that counts the number of even and odd numbers in a list using a `for` loop."
   ]
  },
  {
   "cell_type": "code",
   "execution_count": 6,
   "id": "54f2b797",
   "metadata": {},
   "outputs": [
    {
     "name": "stdout",
     "output_type": "stream",
     "text": [
      "Number 1 is Odd\n",
      "Number 2 is Even\n",
      "Number 3 is Odd\n",
      "Number 4 is Even\n",
      "Number 5 is Odd\n",
      "Number 6 is Even\n",
      "Number 7 is Odd\n",
      "Number 8 is Even\n",
      "Number 9 is Odd\n",
      "Number 10 is Even\n"
     ]
    }
   ],
   "source": [
    "num_list=[1,2,3,4,5,6,7,8,9,10]\n",
    "\n",
    "for i in num_list:\n",
    "    if i%2==0:\n",
    "        print(f\"Number {i} is Even\")\n",
    "    else:\n",
    "        print(f\"Number {i} is Odd\")"
   ]
  },
  {
   "cell_type": "raw",
   "id": "522c1d2b",
   "metadata": {},
   "source": [
    "7. Develop a program that prints the squares of numbers from 1 to 5 using a `for` loop."
   ]
  },
  {
   "cell_type": "code",
   "execution_count": 7,
   "id": "cbe940a8",
   "metadata": {},
   "outputs": [
    {
     "name": "stdout",
     "output_type": "stream",
     "text": [
      "The square of number 1 is : 1\n",
      "The square of number 2 is : 4\n",
      "The square of number 3 is : 9\n",
      "The square of number 4 is : 16\n",
      "The square of number 5 is : 25\n"
     ]
    }
   ],
   "source": [
    "n=5\n",
    "for i in range(1,n+1):\n",
    "    square=i**2\n",
    "    print(f\"The square of number {i} is : {square}\")"
   ]
  },
  {
   "cell_type": "raw",
   "id": "9bd99ebc",
   "metadata": {},
   "source": [
    "8. Create a program to find the length of a string without using the `len()` function."
   ]
  },
  {
   "cell_type": "code",
   "execution_count": 8,
   "id": "cf2c4688",
   "metadata": {},
   "outputs": [
    {
     "name": "stdout",
     "output_type": "stream",
     "text": [
      "The length of the string is 13.\n"
     ]
    }
   ],
   "source": [
    "s = 'Hello, World!'\n",
    "length = 0\n",
    "\n",
    "for char in s:\n",
    "    length += 1\n",
    "\n",
    "print(f\"The length of the string is {length}.\")\n"
   ]
  },
  {
   "cell_type": "raw",
   "id": "933dddc2",
   "metadata": {},
   "source": [
    "9. Write a program that calculates the average of a list of numbers using a `for` loop."
   ]
  },
  {
   "cell_type": "code",
   "execution_count": 9,
   "id": "1b25f87a",
   "metadata": {},
   "outputs": [
    {
     "name": "stdout",
     "output_type": "stream",
     "text": [
      "5.5\n"
     ]
    }
   ],
   "source": [
    "num_list=[1,2,3,4,5,6,7,8,9,10]\n",
    "avg=0\n",
    "\n",
    "for i in num_list:\n",
    "    avg=avg+i\n",
    "    \n",
    "print(avg/len(num_list))    "
   ]
  },
  {
   "cell_type": "raw",
   "id": "4d8931fe",
   "metadata": {},
   "source": [
    "10. Develop a program that prints the first `n` Fibonacci numbers using a `for` loop."
   ]
  },
  {
   "cell_type": "code",
   "execution_count": 10,
   "id": "debe0253",
   "metadata": {},
   "outputs": [
    {
     "name": "stdout",
     "output_type": "stream",
     "text": [
      "0 1 1 2 3 5 8 13 21 34 "
     ]
    }
   ],
   "source": [
    "n = 10\n",
    "\n",
    "a, b = 0, 1\n",
    "for i in range(n):\n",
    "    print(a, end=' ')\n",
    "    a, b = b, a + b"
   ]
  },
  {
   "cell_type": "markdown",
   "id": "da4473c1",
   "metadata": {},
   "source": [
    "# Intermediate Level"
   ]
  },
  {
   "cell_type": "raw",
   "id": "7170c9e8",
   "metadata": {},
   "source": [
    "11. Write a program to check if a given list contains any duplicates using a `for` loop."
   ]
  },
  {
   "cell_type": "code",
   "execution_count": 11,
   "id": "2779a1f6",
   "metadata": {},
   "outputs": [
    {
     "name": "stdout",
     "output_type": "stream",
     "text": [
      "[1, 2, 3, 4, 5, 6, 7, 8, 9]\n",
      "[1, 2, 5, 9]\n"
     ]
    }
   ],
   "source": [
    "# Python program to print duplicates from\n",
    "# a list of integers\n",
    "lis = [1, 2, 1, 2, 3, 4, 5, 1, 1, 2, 5, 6, 7, 8, 9, 9]\n",
    "\n",
    "uniqueList = []\n",
    "duplicateList = []\n",
    "\n",
    "for i in lis:\n",
    "    if i not in uniqueList:\n",
    "        uniqueList.append(i)\n",
    "    elif i not in duplicateList:\n",
    "        duplicateList.append(i)\n",
    "\n",
    "print(uniqueList)\n",
    "print(duplicateList)"
   ]
  },
  {
   "cell_type": "raw",
   "id": "32f13b3e",
   "metadata": {},
   "source": [
    "12. Create a program that prints the prime numbers in a given range using a `for` loop."
   ]
  },
  {
   "cell_type": "code",
   "execution_count": 12,
   "id": "7463d159",
   "metadata": {},
   "outputs": [
    {
     "name": "stdout",
     "output_type": "stream",
     "text": [
      "The Number 4 is Even\n",
      "The Number 5 is Prime\n",
      "The Number 6 is Even\n",
      "The Number 7 is Prime\n",
      "The Number 8 is Even\n",
      "The Number 9 is Odd\n",
      "The Number 10 is Even\n",
      "The Number 11 is Prime\n",
      "The Number 12 is Even\n",
      "The Number 13 is Prime\n",
      "The Number 14 is Even\n",
      "The Number 15 is Odd\n"
     ]
    }
   ],
   "source": [
    "num=15\n",
    "prime_num=1\n",
    "\n",
    "for i in range(4,num+1):\n",
    "    if i%2==0:\n",
    "        print(f\"The Number {i} is Even\")\n",
    "    elif i%3==0:\n",
    "        print(f\"The Number {i} is Odd\")\n",
    "    else:\n",
    "        print(f\"The Number {i} is Prime\")"
   ]
  },
  {
   "cell_type": "code",
   "execution_count": 13,
   "id": "40c77860",
   "metadata": {},
   "outputs": [
    {
     "name": "stdout",
     "output_type": "stream",
     "text": [
      "2\n",
      "3\n",
      "5\n",
      "7\n",
      "11\n",
      "13\n",
      "17\n",
      "19\n",
      "23\n",
      "29\n",
      "31\n",
      "37\n",
      "41\n",
      "43\n",
      "47\n"
     ]
    }
   ],
   "source": [
    "start = 1\n",
    "end = 50\n",
    "\n",
    "for num in range(start, end + 1):\n",
    "    if num > 1:\n",
    "        for i in range(2, num):\n",
    "            if (num % i) == 0:\n",
    "                break\n",
    "        else: \n",
    "            print(num)\n"
   ]
  },
  {
   "cell_type": "raw",
   "id": "a53774a1",
   "metadata": {},
   "source": [
    "13. Develop a program that counts the number of vowels in a string using a `for` loop."
   ]
  },
  {
   "cell_type": "code",
   "execution_count": 14,
   "id": "e84039f3",
   "metadata": {},
   "outputs": [
    {
     "name": "stdout",
     "output_type": "stream",
     "text": [
      "3\n"
     ]
    }
   ],
   "source": [
    "vowels=['a','e','i','o','u','A','E','I','O','U']\n",
    "string=\"Hello World!\"\n",
    "count=0\n",
    "\n",
    "for i in string:\n",
    "    if i in vowels:\n",
    "        count+=1\n",
    "print(count)    "
   ]
  },
  {
   "cell_type": "raw",
   "id": "f266ee78",
   "metadata": {},
   "source": [
    "14. Write a program to find the maximum element in a 2D list using a nested `for` loop."
   ]
  },
  {
   "cell_type": "code",
   "execution_count": 15,
   "id": "aca8e82f",
   "metadata": {
    "scrolled": true
   },
   "outputs": [
    {
     "name": "stdout",
     "output_type": "stream",
     "text": [
      "Maximum Element: 1\n"
     ]
    }
   ],
   "source": [
    "list_2D=[[1,2,3],\n",
    "        [4,5,6],\n",
    "        [7,8,9]]\n",
    "\n",
    "max_element=list_2D[0][0]\n",
    "\n",
    "for i in list_2D:\n",
    "    for element in i:\n",
    "        if element>max_element:\n",
    "            max_elemente=element\n",
    "print(\"Maximum Element:\",max_element)            "
   ]
  },
  {
   "cell_type": "raw",
   "id": "4fc0d184",
   "metadata": {},
   "source": [
    "15.Create a program that removes all occurrences of a specific element from a list using a `for` loop."
   ]
  },
  {
   "cell_type": "code",
   "execution_count": 16,
   "id": "58c7b375",
   "metadata": {},
   "outputs": [
    {
     "name": "stdout",
     "output_type": "stream",
     "text": [
      "[1, 3, 4, 5]\n"
     ]
    }
   ],
   "source": [
    "lst = [1, 2, 3, 2, 4, 2, 5]\n",
    "\n",
    "element_to_remove = 2\n",
    "\n",
    "\n",
    "new_lst = []\n",
    "\n",
    "for i in lst:\n",
    "    if i != element_to_remove:\n",
    "        new_lst.append(i)\n",
    "\n",
    "print(new_lst)\n"
   ]
  },
  {
   "cell_type": "raw",
   "id": "d78fccd0",
   "metadata": {},
   "source": [
    "16. Develop a program that generates a multiplication table for numbers from 1 to 5 using a nested `for` loop."
   ]
  },
  {
   "cell_type": "code",
   "execution_count": 17,
   "id": "1ed909fd",
   "metadata": {},
   "outputs": [
    {
     "name": "stdout",
     "output_type": "stream",
     "text": [
      "Table of 1\n",
      "1 x 1 = 1\n",
      "1 x 2 = 2\n",
      "1 x 3 = 3\n",
      "1 x 4 = 4\n",
      "1 x 5 = 5\n",
      "1 x 6 = 6\n",
      "1 x 7 = 7\n",
      "1 x 8 = 8\n",
      "1 x 9 = 9\n",
      "1 x 10 = 10\n",
      "\n",
      "\n",
      "Table of 2\n",
      "2 x 1 = 2\n",
      "2 x 2 = 4\n",
      "2 x 3 = 6\n",
      "2 x 4 = 8\n",
      "2 x 5 = 10\n",
      "2 x 6 = 12\n",
      "2 x 7 = 14\n",
      "2 x 8 = 16\n",
      "2 x 9 = 18\n",
      "2 x 10 = 20\n",
      "\n",
      "\n",
      "Table of 3\n",
      "3 x 1 = 3\n",
      "3 x 2 = 6\n",
      "3 x 3 = 9\n",
      "3 x 4 = 12\n",
      "3 x 5 = 15\n",
      "3 x 6 = 18\n",
      "3 x 7 = 21\n",
      "3 x 8 = 24\n",
      "3 x 9 = 27\n",
      "3 x 10 = 30\n",
      "\n",
      "\n",
      "Table of 4\n",
      "4 x 1 = 4\n",
      "4 x 2 = 8\n",
      "4 x 3 = 12\n",
      "4 x 4 = 16\n",
      "4 x 5 = 20\n",
      "4 x 6 = 24\n",
      "4 x 7 = 28\n",
      "4 x 8 = 32\n",
      "4 x 9 = 36\n",
      "4 x 10 = 40\n",
      "\n",
      "\n",
      "Table of 5\n",
      "5 x 1 = 5\n",
      "5 x 2 = 10\n",
      "5 x 3 = 15\n",
      "5 x 4 = 20\n",
      "5 x 5 = 25\n",
      "5 x 6 = 30\n",
      "5 x 7 = 35\n",
      "5 x 8 = 40\n",
      "5 x 9 = 45\n",
      "5 x 10 = 50\n",
      "\n",
      "\n"
     ]
    }
   ],
   "source": [
    "table_start=5\n",
    "\n",
    "for i in range(1,table_start+1):\n",
    "    print(f\"Table of {i}\")\n",
    "    for multiplication in range(1,11):      \n",
    "        print(f\"{i} x {multiplication} = {i * multiplication}\")\n",
    "    print('\\n')    "
   ]
  },
  {
   "cell_type": "raw",
   "id": "bad09caa",
   "metadata": {},
   "source": [
    "17. Write a program that converts a list of Fahrenheit temperatures to Celsius using a `for` loop."
   ]
  },
  {
   "cell_type": "code",
   "execution_count": 18,
   "id": "9df67923",
   "metadata": {},
   "outputs": [
    {
     "name": "stdout",
     "output_type": "stream",
     "text": [
      "[68.88888888888889, 420.5555555555556, 50.55555555555556, 235.55555555555557, 400.5555555555556]\n"
     ]
    }
   ],
   "source": [
    "f=[156,789,123,456,753]\n",
    "c=[]\n",
    "\n",
    "for i in f:\n",
    "    lit=((i-32)*(5/9))\n",
    "    c.append(lit)\n",
    "print(c)    "
   ]
  },
  {
   "cell_type": "raw",
   "id": "7742b50d",
   "metadata": {},
   "source": [
    "18. Create a program to print the common elements from two lists using a `for` loop."
   ]
  },
  {
   "cell_type": "code",
   "execution_count": 19,
   "id": "ad73464b",
   "metadata": {},
   "outputs": [
    {
     "name": "stdout",
     "output_type": "stream",
     "text": [
      "1\n",
      "5\n",
      "6\n",
      "6\n",
      "8\n",
      "5\n"
     ]
    }
   ],
   "source": [
    "list1=[1,2,3,4,5,6,7,8,9,3,5]\n",
    "list2=[5,17,8,94,6,35,1,22,10,6]\n",
    "\n",
    "# common element in both the list are 1,5,6,6,8,5\n",
    "\n",
    "for ele1 in list1:\n",
    "    for ele2 in list2:\n",
    "        if ele1==ele2:\n",
    "            print(ele1)"
   ]
  },
  {
   "cell_type": "raw",
   "id": "8d0af943",
   "metadata": {},
   "source": [
    "19. Develop a program that prints the pattern of right-angled triangles using a `for` loop. Use ‘*’ to draw the\n",
    "pattern"
   ]
  },
  {
   "cell_type": "code",
   "execution_count": 20,
   "id": "6195ba8e",
   "metadata": {},
   "outputs": [
    {
     "name": "stdout",
     "output_type": "stream",
     "text": [
      "*\n",
      "**\n",
      "***\n",
      "****\n",
      "*****\n"
     ]
    }
   ],
   "source": [
    "rows = 5\n",
    "\n",
    "for i in range(rows):\n",
    "    for j in range(i+1):\n",
    "        print('*', end='')\n",
    "    print()\n"
   ]
  },
  {
   "cell_type": "raw",
   "id": "abcd24f7",
   "metadata": {},
   "source": [
    "20. Write a program to find the greatest common divisor (GCD) of two numbers using a `for` loop."
   ]
  },
  {
   "cell_type": "code",
   "execution_count": 21,
   "id": "fc1756a2",
   "metadata": {},
   "outputs": [
    {
     "name": "stdout",
     "output_type": "stream",
     "text": [
      "48\n",
      "The GCD of 60 and 48 is 12\n"
     ]
    }
   ],
   "source": [
    "num1 = 60\n",
    "num2 = 48\n",
    "\n",
    "\n",
    "min_num = min(num1, num2)\n",
    "print(min_num)\n",
    "\n",
    "gcd = 1\n",
    "for i in range(1, min_num+1):\n",
    "    if num1 % i == 0 and num2 % i == 0:\n",
    "        gcd = i\n",
    "\n",
    "print(\"The GCD of\", num1, \"and\", num2, \"is\", gcd)\n"
   ]
  },
  {
   "cell_type": "markdown",
   "id": "084d3514",
   "metadata": {},
   "source": [
    " # Advance Level"
   ]
  },
  {
   "cell_type": "raw",
   "id": "2ccb2982",
   "metadata": {},
   "source": [
    "21. Create a program that calculates the sum of the digits of numbers in a list using a list comprehension."
   ]
  },
  {
   "cell_type": "code",
   "execution_count": 22,
   "id": "53fb0d5d",
   "metadata": {},
   "outputs": [
    {
     "name": "stdout",
     "output_type": "stream",
     "text": [
      "[6, 15, 24]\n"
     ]
    }
   ],
   "source": [
    "numbers = [123, 456, 789]\n",
    "sums = []\n",
    "\n",
    "for num in numbers:\n",
    "    digit_sum = 0\n",
    "    for digit in str(num):\n",
    "        digit_sum += int(digit)\n",
    "    sums.append(digit_sum)\n",
    "\n",
    "print(sums)"
   ]
  },
  {
   "cell_type": "raw",
   "id": "4e8d910f",
   "metadata": {},
   "source": [
    "22. Write a program to find the prime factors of a given number using a `for` loop and list comprehension."
   ]
  },
  {
   "cell_type": "code",
   "execution_count": 23,
   "id": "f50a9f37",
   "metadata": {},
   "outputs": [
    {
     "name": "stdout",
     "output_type": "stream",
     "text": [
      "[3, 5, 7]\n"
     ]
    }
   ],
   "source": [
    "n = 315\n",
    "factors = [i for i in range(2, n+1) if n % i == 0]\n",
    "prime_factors = [i for i in factors if all(i % j != 0 for j in range(2, int(i**0.5) + 1))]\n",
    "\n",
    "print(prime_factors)"
   ]
  },
  {
   "cell_type": "raw",
   "id": "4ad6cca9",
   "metadata": {},
   "source": [
    "23. Develop a program that extracts unique elements from a list and stores them in a new list using a list\n",
    "comprehension."
   ]
  },
  {
   "cell_type": "code",
   "execution_count": 24,
   "id": "29ec42f0",
   "metadata": {},
   "outputs": [
    {
     "name": "stdout",
     "output_type": "stream",
     "text": [
      "[1, 2, 3, 4, 5, 6, 7]\n"
     ]
    }
   ],
   "source": [
    "numbers = [1, 2, 2, 3, 4, 4, 5, 6, 6, 7]\n",
    "unique_numbers = [num for i, num in enumerate(numbers) if numbers.index(num) == i]\n",
    "\n",
    "print(unique_numbers)"
   ]
  },
  {
   "cell_type": "raw",
   "id": "556c8a13",
   "metadata": {},
   "source": [
    "24. Create a program that generates a list of all palindromic numbers up to a specified limit using a list\n",
    "comprehension."
   ]
  },
  {
   "cell_type": "code",
   "execution_count": 25,
   "id": "71ba355b",
   "metadata": {},
   "outputs": [
    {
     "name": "stdout",
     "output_type": "stream",
     "text": [
      "[0, 1, 2, 3, 4, 5, 6, 7, 8, 9, 11, 22, 33, 44, 55, 66, 77, 88, 99, 101, 111, 121, 131, 141, 151, 161, 171, 181, 191, 202, 212, 222, 232, 242, 252, 262, 272, 282, 292, 303, 313, 323, 333, 343, 353, 363, 373, 383, 393, 404, 414, 424, 434, 444, 454, 464, 474, 484, 494, 505, 515, 525, 535, 545, 555, 565, 575, 585, 595, 606, 616, 626, 636, 646, 656, 666, 676, 686, 696, 707, 717, 727, 737, 747, 757, 767, 777, 787, 797, 808, 818, 828, 838, 848, 858, 868, 878, 888, 898, 909, 919, 929, 939, 949, 959, 969, 979, 989, 999]\n"
     ]
    }
   ],
   "source": [
    "limit = 1000\n",
    "palindromes = [num for num in range(limit) if str(num) == str(num)[::-1]]\n",
    "\n",
    "print(palindromes)"
   ]
  },
  {
   "cell_type": "raw",
   "id": "8a4f0168",
   "metadata": {},
   "source": [
    "25. Write a program to flatten a nested list using list comprehension."
   ]
  },
  {
   "cell_type": "code",
   "execution_count": 26,
   "id": "93e3bafc",
   "metadata": {},
   "outputs": [
    {
     "name": "stdout",
     "output_type": "stream",
     "text": [
      "[1, 2, 3, 4, 5, 6, 7, 8, 9]\n"
     ]
    }
   ],
   "source": [
    "nested_list = [[1, 2, 3], [4, 5], [6, 7, 8, 9]]\n",
    "flattened_list = [item for sublist in nested_list for item in sublist]\n",
    "\n",
    "print(flattened_list)"
   ]
  },
  {
   "cell_type": "raw",
   "id": "b544f50a",
   "metadata": {},
   "source": [
    "26. Develop a program that computes the sum of even and odd numbers in a list separately using list\n",
    "comprehension."
   ]
  },
  {
   "cell_type": "code",
   "execution_count": 27,
   "id": "588baf77",
   "metadata": {},
   "outputs": [
    {
     "name": "stdout",
     "output_type": "stream",
     "text": [
      "Sum of Even Numbers is : 20\n",
      "Sum of Odd Numbers is : 25\n",
      "Even numbers: [2, 4, 6, 8]\n",
      "Odd numbers: [1, 3, 5, 7, 9]\n"
     ]
    }
   ],
   "source": [
    "numbers = [1, 2, 3, 4, 5, 6, 7, 8, 9]\n",
    "\n",
    "even_numbers = [x for x in numbers if x % 2 == 0]\n",
    "odd_numbers = [x for x in numbers if x % 2 != 0]\n",
    "\n",
    "even=0\n",
    "for i in even_numbers:\n",
    "    even+=i\n",
    "print(\"Sum of Even Numbers is :\",even)    \n",
    "\n",
    "odd=0\n",
    "for i in odd_numbers:\n",
    "    odd+=i\n",
    "print(\"Sum of Odd Numbers is :\",odd)    \n",
    "\n",
    "print(\"Even numbers:\", even_numbers)\n",
    "print(\"Odd numbers:\", odd_numbers)"
   ]
  },
  {
   "cell_type": "raw",
   "id": "f98a58aa",
   "metadata": {},
   "source": [
    "27. Create a program that generates a list of squares of odd numbers between 1 and 10 using list\n",
    "comprehension."
   ]
  },
  {
   "cell_type": "code",
   "execution_count": 28,
   "id": "f2d19543",
   "metadata": {},
   "outputs": [
    {
     "name": "stdout",
     "output_type": "stream",
     "text": [
      "Squares of odd numbers between 1 and 10: [1, 9, 25, 49, 81]\n"
     ]
    }
   ],
   "source": [
    "squares_of_odd_numbers = [x**2 for x in range(1, 11) if x % 2 != 0]\n",
    "\n",
    "print(\"Squares of odd numbers between 1 and 10:\", squares_of_odd_numbers)"
   ]
  },
  {
   "cell_type": "raw",
   "id": "b500bf46",
   "metadata": {},
   "source": [
    "29. Develop a program that extracts the vowels from a string and stores them in a list using list comprehension."
   ]
  },
  {
   "cell_type": "code",
   "execution_count": 29,
   "id": "c9845d64",
   "metadata": {},
   "outputs": [
    {
     "name": "stdout",
     "output_type": "stream",
     "text": [
      "Vowels in the string: ['e', 'o', 'o']\n"
     ]
    }
   ],
   "source": [
    "input_string = \"Hello World!\"\n",
    "\n",
    "input_string = input_string.lower()\n",
    "\n",
    "vowels = [char for char in input_string if char in 'aeiou']\n",
    "\n",
    "print(\"Vowels in the string:\", vowels)"
   ]
  },
  {
   "cell_type": "raw",
   "id": "5d9067f8",
   "metadata": {},
   "source": [
    "30. Create a program that removes all non-numeric characters from a list of strings using list comprehension."
   ]
  },
  {
   "cell_type": "code",
   "execution_count": 30,
   "id": "e0c5f8d8",
   "metadata": {},
   "outputs": [
    {
     "name": "stdout",
     "output_type": "stream",
     "text": [
      "Numeric strings in the list: ['123', '456', '789', '']\n"
     ]
    }
   ],
   "source": [
    "input_list = [\"abc123\", \"456def\", \"7gh89i\", \"jkl\"]\n",
    "\n",
    "numeric_strings = [''.join(char for char in string if char.isdigit()) for string in input_list]\n",
    "\n",
    "print(\"Numeric strings in the list:\", numeric_strings)"
   ]
  },
  {
   "cell_type": "markdown",
   "id": "c1f203ea",
   "metadata": {},
   "source": [
    "# Challenge Level"
   ]
  },
  {
   "cell_type": "raw",
   "id": "28326936",
   "metadata": {},
   "source": [
    "31. Write a program to generate a list of prime numbers using the Sieve of Eratosthenes algorithm and list\n",
    "comprehension."
   ]
  },
  {
   "cell_type": "code",
   "execution_count": 31,
   "id": "9bbcc3d0",
   "metadata": {},
   "outputs": [
    {
     "name": "stdout",
     "output_type": "stream",
     "text": [
      "Prime numbers up to 17 are: [2, 3, 5, 7, 11, 13, 17]\n"
     ]
    }
   ],
   "source": [
    "def sieve_eratosthenes(limit):\n",
    "    is_prime = [True] * (limit + 1)\n",
    "    \n",
    "    is_prime[0] = is_prime[1] = False\n",
    "    \n",
    "    for number in range(2, int(limit**0.5) + 1):\n",
    "        if is_prime[number]:\n",
    "            for multiple in range(number * number, limit + 1, number):\n",
    "                is_prime[multiple] = False\n",
    "    \n",
    "    prime_numbers = [num for num in range(2, limit + 1) if is_prime[num]]\n",
    "    \n",
    "    return prime_numbers\n",
    "\n",
    "\n",
    "limit = 17\n",
    "\n",
    "prime_numbers = sieve_eratosthenes(limit)\n",
    "print(\"Prime numbers up to\", limit, \"are:\", prime_numbers)"
   ]
  },
  {
   "cell_type": "raw",
   "id": "c229fdca",
   "metadata": {},
   "source": [
    "32. Create a program that generates a list of all Pythagorean triplets up to a specified limit using list\n",
    "comprehension."
   ]
  },
  {
   "cell_type": "code",
   "execution_count": 32,
   "id": "68def348",
   "metadata": {},
   "outputs": [
    {
     "name": "stdout",
     "output_type": "stream",
     "text": [
      "Pythagorean triplets up to 10 are: [(3, 4, 5), (6, 8, 10)]\n"
     ]
    }
   ],
   "source": [
    "def generate_pythagorean_triplets(limit):\n",
    "    triplets = [(a, b, c) for a in range(1, limit + 1) for b in range(a, limit + 1)\n",
    "                for c in range(b, limit + 1) if a**2 + b**2 == c**2]\n",
    "    return triplets\n",
    "\n",
    "limit = 10\n",
    "\n",
    "pythagorean_triplets = generate_pythagorean_triplets(limit)\n",
    "print(\"Pythagorean triplets up to\", limit, \"are:\", pythagorean_triplets)"
   ]
  },
  {
   "cell_type": "raw",
   "id": "84d3f3c7",
   "metadata": {},
   "source": [
    "33. Develop a program that generates a list of all possible combinations of two lists using list comprehension."
   ]
  },
  {
   "cell_type": "code",
   "execution_count": 33,
   "id": "5b760771",
   "metadata": {},
   "outputs": [
    {
     "name": "stdout",
     "output_type": "stream",
     "text": [
      "Enter the first list (comma-separated values): 45\n",
      "Enter the second list (comma-separated values): 6\n",
      "Combinations of the two lists:\n",
      "('45', '6')\n"
     ]
    }
   ],
   "source": [
    "from itertools import product\n",
    "\n",
    "list1 = input(\"Enter the first list (comma-separated values): \").split(',')\n",
    "list2 = input(\"Enter the second list (comma-separated values): \").split(',')\n",
    "\n",
    "combinations = [(item1, item2) for item1, item2 in product(list1, list2)]\n",
    "\n",
    "print(\"Combinations of the two lists:\")\n",
    "for combination in combinations:\n",
    "    print(combination)"
   ]
  },
  {
   "cell_type": "raw",
   "id": "53b0b838",
   "metadata": {},
   "source": [
    "34. Write a program that calculates the mean, median, and mode of a list of numbers using list\n",
    "comprehension."
   ]
  },
  {
   "cell_type": "raw",
   "id": "32f2833d",
   "metadata": {},
   "source": [
    "def calculate_mean_median_mode(list_of_numbers):\n",
    "\n",
    "    mean = sum(list_of_numbers) / len(list_of_numbers)\n",
    "    median = sorted(list_of_numbers)[len(list_of_numbers) // 2]\n",
    "    mode = max(list_of_numbers, key=list_of_numbers.count)\n",
    "\n",
    "    return mean, median, mode\n",
    "\n",
    "list_of_numbers = [1, 2, 3, 4, 5, 6, 7, 8, 9, 10]\n",
    "\n",
    "mean, median, mode = calculate_mean_median_mode(list_of_numbers)\n",
    "\n",
    "print(\"Mean:\", mean)\n",
    "print(\"Median:\", median)\n",
    "print(\"Mode:\", mode)"
   ]
  },
  {
   "cell_type": "raw",
   "id": "6ad3fd9d",
   "metadata": {},
   "source": [
    "35. Create a program that generates Pascal's triangle up to a specified number of rows using list\n",
    "comprehension."
   ]
  },
  {
   "cell_type": "code",
   "execution_count": 34,
   "id": "62e915e4",
   "metadata": {},
   "outputs": [
    {
     "name": "stdout",
     "output_type": "stream",
     "text": [
      "[1]\n",
      "[1, 1]\n",
      "[1, 2, 1]\n",
      "[1, 3, 3, 1]\n",
      "[1, 4, 6, 4, 1]\n",
      "[1, 5, 10, 10, 5, 1]\n"
     ]
    }
   ],
   "source": [
    "def generate_pascals_triangle(num_rows):\n",
    "    triangle = [[1] * (i + 1) for i in range(num_rows)]\n",
    "    for i in range(2, num_rows):\n",
    "        for j in range(1, i):\n",
    "            triangle[i][j] = triangle[i - 1][j - 1] + triangle[i - 1][j]\n",
    "    return triangle\n",
    "\n",
    "num_rows = 6\n",
    "pascals_triangle = generate_pascals_triangle(num_rows)\n",
    "for row in pascals_triangle:\n",
    "    print(row)"
   ]
  },
  {
   "cell_type": "raw",
   "id": "626651e0",
   "metadata": {},
   "source": [
    "36. Develop a program that calculates the sum of the digits of a factorial of numbers from 1 to 5 using list\n",
    "comprehension."
   ]
  },
  {
   "cell_type": "raw",
   "id": "98efdd5e",
   "metadata": {},
   "source": [
    "37. Write a program that finds the longest word in a sentence using list comprehension."
   ]
  },
  {
   "cell_type": "code",
   "execution_count": 35,
   "id": "e58572ea",
   "metadata": {},
   "outputs": [
    {
     "name": "stdout",
     "output_type": "stream",
     "text": [
      "Longest word in the sentence: World!\n"
     ]
    }
   ],
   "source": [
    "sentence = \"Hello World!\"\n",
    "words = sentence.split()\n",
    "longest_word = max(words, key=lambda word: len(word))\n",
    "print(\"Longest word in the sentence:\", longest_word)"
   ]
  },
  {
   "cell_type": "raw",
   "id": "f2efc3c7",
   "metadata": {},
   "source": [
    "38. Create a program that filters a list of strings to include only those with more than three vowels using list\n",
    "comprehension."
   ]
  },
  {
   "cell_type": "markdown",
   "id": "0c5b6318",
   "metadata": {},
   "source": [
    "def count_vowels(word):\n",
    "    vowels = \"aeiouAEIOU\"\n",
    "    return sum(1 for char in word if char in vowels)\n",
    "\n",
    "word_list = \"Hello World!\"\n",
    "filtered_words = [word for word in word_list if count_vowels(word) > 3]\n",
    "print(\"Words with more than three vowels:\", filtered_words)"
   ]
  },
  {
   "cell_type": "raw",
   "id": "9c11359d",
   "metadata": {},
   "source": [
    "39. Develop a program that calculates the sum of the digits of numbers from 1 to 1000 using list\n",
    "comprehension."
   ]
  },
  {
   "cell_type": "raw",
   "id": "d0019290",
   "metadata": {},
   "source": [
    "40. Write a program that generates a list of prime palindromic numbers using list comprehension."
   ]
  },
  {
   "cell_type": "code",
   "execution_count": 36,
   "id": "a0e22883",
   "metadata": {},
   "outputs": [
    {
     "name": "stdout",
     "output_type": "stream",
     "text": [
      "Prime palindromic numbers from 1 to 1000: [2, 3, 5, 7, 11, 101, 131, 151, 181, 191, 313, 353, 373, 383, 727, 757, 787, 797, 919, 929]\n"
     ]
    }
   ],
   "source": [
    "def is_prime(num):\n",
    "    if num <= 1:\n",
    "        return False\n",
    "    for i in range(2, int(num**0.5) + 1):\n",
    "        if num % i == 0:\n",
    "            return False\n",
    "    return True\n",
    "\n",
    "def is_palindrome(num):\n",
    "    return str(num) == str(num)[::-1]\n",
    "\n",
    "prime_palindromes = [num for num in range(1, 1001) if is_prime(num) and is_palindrome(num)]\n",
    "print(\"Prime palindromic numbers from 1 to 1000:\", prime_palindromes)"
   ]
  }
 ],
 "metadata": {
  "kernelspec": {
   "display_name": "Python 3 (ipykernel)",
   "language": "python",
   "name": "python3"
  },
  "language_info": {
   "codemirror_mode": {
    "name": "ipython",
    "version": 3
   },
   "file_extension": ".py",
   "mimetype": "text/x-python",
   "name": "python",
   "nbconvert_exporter": "python",
   "pygments_lexer": "ipython3",
   "version": "3.9.16"
  }
 },
 "nbformat": 4,
 "nbformat_minor": 5
}
